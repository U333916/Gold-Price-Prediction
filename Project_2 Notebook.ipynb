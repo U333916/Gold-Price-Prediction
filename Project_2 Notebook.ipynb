{
 "cells": [
  {
   "cell_type": "markdown",
   "metadata": {
    "id": "pWRv1h4WMweb"
   },
   "source": [
    "# <center> Gold Price Prediction</h2>\n",
    "# <Left> Author : Pooja Shinde </h2>"
   ]
  },
  {
   "cell_type": "markdown",
   "metadata": {
    "id": "a4hicRRbMwes"
   },
   "source": [
    "## Import Libraries"
   ]
  },
  {
   "cell_type": "code",
   "execution_count": 1,
   "metadata": {
    "id": "wwHBaTvwMwev"
   },
   "outputs": [],
   "source": [
    "import numpy as np\n",
    "import pandas as pd\n",
    "import seaborn as sns\n",
    "import matplotlib.pyplot as plt\n"
   ]
  },
  {
   "cell_type": "code",
   "execution_count": 2,
   "metadata": {
    "id": "4R-a6uO_Mwey"
   },
   "outputs": [],
   "source": [
    "import warnings\n",
    "warnings.filterwarnings('ignore')"
   ]
  },
  {
   "cell_type": "markdown",
   "metadata": {
    "id": "Rn6Dxj8EMwez"
   },
   "source": [
    "## Task 1: Initial Data Exploration"
   ]
  },
  {
   "cell_type": "code",
   "execution_count": 4,
   "metadata": {
    "id": "486jTOA8Mwe1"
   },
   "outputs": [],
   "source": [
    "data = pd.read_csv(\"C:\\\\Users\\\\hp\\\\Downloads\\\\gold_price.csv\")"
   ]
  },
  {
   "cell_type": "code",
   "execution_count": 5,
   "metadata": {
    "id": "LCcnvw7VMwe2"
   },
   "outputs": [
    {
     "data": {
      "text/html": [
       "<div>\n",
       "<style scoped>\n",
       "    .dataframe tbody tr th:only-of-type {\n",
       "        vertical-align: middle;\n",
       "    }\n",
       "\n",
       "    .dataframe tbody tr th {\n",
       "        vertical-align: top;\n",
       "    }\n",
       "\n",
       "    .dataframe thead th {\n",
       "        text-align: right;\n",
       "    }\n",
       "</style>\n",
       "<table border=\"1\" class=\"dataframe\">\n",
       "  <thead>\n",
       "    <tr style=\"text-align: right;\">\n",
       "      <th></th>\n",
       "      <th>Date</th>\n",
       "      <th>USD (AM)</th>\n",
       "      <th>USD (PM)</th>\n",
       "      <th>GBP (AM)</th>\n",
       "      <th>GBP (PM)</th>\n",
       "      <th>EURO (AM)</th>\n",
       "      <th>EURO (PM)</th>\n",
       "    </tr>\n",
       "  </thead>\n",
       "  <tbody>\n",
       "    <tr>\n",
       "      <th>0</th>\n",
       "      <td>2001-01-02</td>\n",
       "      <td>272.80</td>\n",
       "      <td>271.10</td>\n",
       "      <td>183.026</td>\n",
       "      <td>181.617</td>\n",
       "      <td>288.677</td>\n",
       "      <td>287.334</td>\n",
       "    </tr>\n",
       "    <tr>\n",
       "      <th>1</th>\n",
       "      <td>2001-01-03</td>\n",
       "      <td>269.00</td>\n",
       "      <td>267.15</td>\n",
       "      <td>178.916</td>\n",
       "      <td>177.390</td>\n",
       "      <td>281.823</td>\n",
       "      <td>281.655</td>\n",
       "    </tr>\n",
       "    <tr>\n",
       "      <th>2</th>\n",
       "      <td>2001-01-04</td>\n",
       "      <td>268.75</td>\n",
       "      <td>267.10</td>\n",
       "      <td>178.869</td>\n",
       "      <td>178.352</td>\n",
       "      <td>282.538</td>\n",
       "      <td>282.049</td>\n",
       "    </tr>\n",
       "    <tr>\n",
       "      <th>3</th>\n",
       "      <td>2001-01-05</td>\n",
       "      <td>268.00</td>\n",
       "      <td>267.40</td>\n",
       "      <td>178.488</td>\n",
       "      <td>178.148</td>\n",
       "      <td>280.775</td>\n",
       "      <td>280.882</td>\n",
       "    </tr>\n",
       "    <tr>\n",
       "      <th>4</th>\n",
       "      <td>2001-01-08</td>\n",
       "      <td>268.60</td>\n",
       "      <td>268.30</td>\n",
       "      <td>178.769</td>\n",
       "      <td>178.664</td>\n",
       "      <td>282.410</td>\n",
       "      <td>282.481</td>\n",
       "    </tr>\n",
       "  </tbody>\n",
       "</table>\n",
       "</div>"
      ],
      "text/plain": [
       "         Date  USD (AM)  USD (PM)  GBP (AM)  GBP (PM)  EURO (AM)  EURO (PM)\n",
       "0  2001-01-02    272.80    271.10   183.026   181.617    288.677    287.334\n",
       "1  2001-01-03    269.00    267.15   178.916   177.390    281.823    281.655\n",
       "2  2001-01-04    268.75    267.10   178.869   178.352    282.538    282.049\n",
       "3  2001-01-05    268.00    267.40   178.488   178.148    280.775    280.882\n",
       "4  2001-01-08    268.60    268.30   178.769   178.664    282.410    282.481"
      ]
     },
     "execution_count": 5,
     "metadata": {},
     "output_type": "execute_result"
    }
   ],
   "source": [
    "data.head()"
   ]
  },
  {
   "cell_type": "code",
   "execution_count": 7,
   "metadata": {},
   "outputs": [
    {
     "data": {
      "text/plain": [
       "(4718, 7)"
      ]
     },
     "execution_count": 7,
     "metadata": {},
     "output_type": "execute_result"
    }
   ],
   "source": [
    "data.shape"
   ]
  },
  {
   "cell_type": "code",
   "execution_count": 8,
   "metadata": {},
   "outputs": [
    {
     "name": "stdout",
     "output_type": "stream",
     "text": [
      "<class 'pandas.core.frame.DataFrame'>\n",
      "RangeIndex: 4718 entries, 0 to 4717\n",
      "Data columns (total 7 columns):\n",
      " #   Column     Non-Null Count  Dtype  \n",
      "---  ------     --------------  -----  \n",
      " 0   Date       4718 non-null   object \n",
      " 1   USD (AM)   4718 non-null   float64\n",
      " 2   USD (PM)   4682 non-null   float64\n",
      " 3   GBP (AM)   4718 non-null   float64\n",
      " 4   GBP (PM)   4682 non-null   float64\n",
      " 5   EURO (AM)  4718 non-null   float64\n",
      " 6   EURO (PM)  4682 non-null   float64\n",
      "dtypes: float64(6), object(1)\n",
      "memory usage: 258.1+ KB\n"
     ]
    }
   ],
   "source": [
    "data.info()"
   ]
  },
  {
   "cell_type": "code",
   "execution_count": 9,
   "metadata": {},
   "outputs": [
    {
     "data": {
      "text/html": [
       "<div>\n",
       "<style scoped>\n",
       "    .dataframe tbody tr th:only-of-type {\n",
       "        vertical-align: middle;\n",
       "    }\n",
       "\n",
       "    .dataframe tbody tr th {\n",
       "        vertical-align: top;\n",
       "    }\n",
       "\n",
       "    .dataframe thead th {\n",
       "        text-align: right;\n",
       "    }\n",
       "</style>\n",
       "<table border=\"1\" class=\"dataframe\">\n",
       "  <thead>\n",
       "    <tr style=\"text-align: right;\">\n",
       "      <th></th>\n",
       "      <th>USD (AM)</th>\n",
       "      <th>USD (PM)</th>\n",
       "      <th>GBP (AM)</th>\n",
       "      <th>GBP (PM)</th>\n",
       "      <th>EURO (AM)</th>\n",
       "      <th>EURO (PM)</th>\n",
       "    </tr>\n",
       "  </thead>\n",
       "  <tbody>\n",
       "    <tr>\n",
       "      <th>count</th>\n",
       "      <td>4718.000000</td>\n",
       "      <td>4682.000000</td>\n",
       "      <td>4718.000000</td>\n",
       "      <td>4682.000000</td>\n",
       "      <td>4718.000000</td>\n",
       "      <td>4682.000000</td>\n",
       "    </tr>\n",
       "    <tr>\n",
       "      <th>mean</th>\n",
       "      <td>959.990812</td>\n",
       "      <td>959.728684</td>\n",
       "      <td>625.068432</td>\n",
       "      <td>624.921846</td>\n",
       "      <td>773.892791</td>\n",
       "      <td>773.843716</td>\n",
       "    </tr>\n",
       "    <tr>\n",
       "      <th>std</th>\n",
       "      <td>449.456217</td>\n",
       "      <td>449.487106</td>\n",
       "      <td>324.491391</td>\n",
       "      <td>324.544149</td>\n",
       "      <td>351.555806</td>\n",
       "      <td>351.696708</td>\n",
       "    </tr>\n",
       "    <tr>\n",
       "      <th>min</th>\n",
       "      <td>256.700000</td>\n",
       "      <td>255.950000</td>\n",
       "      <td>176.572000</td>\n",
       "      <td>176.441000</td>\n",
       "      <td>276.711000</td>\n",
       "      <td>277.667000</td>\n",
       "    </tr>\n",
       "    <tr>\n",
       "      <th>25%</th>\n",
       "      <td>449.112500</td>\n",
       "      <td>448.612500</td>\n",
       "      <td>244.576750</td>\n",
       "      <td>244.463500</td>\n",
       "      <td>361.393500</td>\n",
       "      <td>361.338750</td>\n",
       "    </tr>\n",
       "    <tr>\n",
       "      <th>50%</th>\n",
       "      <td>1113.125000</td>\n",
       "      <td>1112.275000</td>\n",
       "      <td>717.145000</td>\n",
       "      <td>716.210500</td>\n",
       "      <td>874.354500</td>\n",
       "      <td>875.141500</td>\n",
       "    </tr>\n",
       "    <tr>\n",
       "      <th>75%</th>\n",
       "      <td>1293.750000</td>\n",
       "      <td>1294.225000</td>\n",
       "      <td>939.065500</td>\n",
       "      <td>939.266500</td>\n",
       "      <td>1085.967750</td>\n",
       "      <td>1085.816250</td>\n",
       "    </tr>\n",
       "    <tr>\n",
       "      <th>max</th>\n",
       "      <td>1896.500000</td>\n",
       "      <td>1895.000000</td>\n",
       "      <td>1265.900000</td>\n",
       "      <td>1265.010000</td>\n",
       "      <td>1389.890000</td>\n",
       "      <td>1392.030000</td>\n",
       "    </tr>\n",
       "  </tbody>\n",
       "</table>\n",
       "</div>"
      ],
      "text/plain": [
       "          USD (AM)     USD (PM)     GBP (AM)     GBP (PM)    EURO (AM)  \\\n",
       "count  4718.000000  4682.000000  4718.000000  4682.000000  4718.000000   \n",
       "mean    959.990812   959.728684   625.068432   624.921846   773.892791   \n",
       "std     449.456217   449.487106   324.491391   324.544149   351.555806   \n",
       "min     256.700000   255.950000   176.572000   176.441000   276.711000   \n",
       "25%     449.112500   448.612500   244.576750   244.463500   361.393500   \n",
       "50%    1113.125000  1112.275000   717.145000   716.210500   874.354500   \n",
       "75%    1293.750000  1294.225000   939.065500   939.266500  1085.967750   \n",
       "max    1896.500000  1895.000000  1265.900000  1265.010000  1389.890000   \n",
       "\n",
       "         EURO (PM)  \n",
       "count  4682.000000  \n",
       "mean    773.843716  \n",
       "std     351.696708  \n",
       "min     277.667000  \n",
       "25%     361.338750  \n",
       "50%     875.141500  \n",
       "75%    1085.816250  \n",
       "max    1392.030000  "
      ]
     },
     "execution_count": 9,
     "metadata": {},
     "output_type": "execute_result"
    }
   ],
   "source": [
    "data.describe()"
   ]
  },
  {
   "cell_type": "code",
   "execution_count": 10,
   "metadata": {},
   "outputs": [
    {
     "data": {
      "text/html": [
       "<div>\n",
       "<style scoped>\n",
       "    .dataframe tbody tr th:only-of-type {\n",
       "        vertical-align: middle;\n",
       "    }\n",
       "\n",
       "    .dataframe tbody tr th {\n",
       "        vertical-align: top;\n",
       "    }\n",
       "\n",
       "    .dataframe thead th {\n",
       "        text-align: right;\n",
       "    }\n",
       "</style>\n",
       "<table border=\"1\" class=\"dataframe\">\n",
       "  <thead>\n",
       "    <tr style=\"text-align: right;\">\n",
       "      <th></th>\n",
       "      <th>Date</th>\n",
       "      <th>USD (AM)</th>\n",
       "      <th>USD (PM)</th>\n",
       "      <th>GBP (AM)</th>\n",
       "      <th>GBP (PM)</th>\n",
       "      <th>EURO (AM)</th>\n",
       "      <th>EURO (PM)</th>\n",
       "    </tr>\n",
       "  </thead>\n",
       "  <tbody>\n",
       "    <tr>\n",
       "      <th>0</th>\n",
       "      <td>False</td>\n",
       "      <td>False</td>\n",
       "      <td>False</td>\n",
       "      <td>False</td>\n",
       "      <td>False</td>\n",
       "      <td>False</td>\n",
       "      <td>False</td>\n",
       "    </tr>\n",
       "    <tr>\n",
       "      <th>1</th>\n",
       "      <td>False</td>\n",
       "      <td>False</td>\n",
       "      <td>False</td>\n",
       "      <td>False</td>\n",
       "      <td>False</td>\n",
       "      <td>False</td>\n",
       "      <td>False</td>\n",
       "    </tr>\n",
       "    <tr>\n",
       "      <th>2</th>\n",
       "      <td>False</td>\n",
       "      <td>False</td>\n",
       "      <td>False</td>\n",
       "      <td>False</td>\n",
       "      <td>False</td>\n",
       "      <td>False</td>\n",
       "      <td>False</td>\n",
       "    </tr>\n",
       "    <tr>\n",
       "      <th>3</th>\n",
       "      <td>False</td>\n",
       "      <td>False</td>\n",
       "      <td>False</td>\n",
       "      <td>False</td>\n",
       "      <td>False</td>\n",
       "      <td>False</td>\n",
       "      <td>False</td>\n",
       "    </tr>\n",
       "    <tr>\n",
       "      <th>4</th>\n",
       "      <td>False</td>\n",
       "      <td>False</td>\n",
       "      <td>False</td>\n",
       "      <td>False</td>\n",
       "      <td>False</td>\n",
       "      <td>False</td>\n",
       "      <td>False</td>\n",
       "    </tr>\n",
       "    <tr>\n",
       "      <th>...</th>\n",
       "      <td>...</td>\n",
       "      <td>...</td>\n",
       "      <td>...</td>\n",
       "      <td>...</td>\n",
       "      <td>...</td>\n",
       "      <td>...</td>\n",
       "      <td>...</td>\n",
       "    </tr>\n",
       "    <tr>\n",
       "      <th>4713</th>\n",
       "      <td>False</td>\n",
       "      <td>False</td>\n",
       "      <td>False</td>\n",
       "      <td>False</td>\n",
       "      <td>False</td>\n",
       "      <td>False</td>\n",
       "      <td>False</td>\n",
       "    </tr>\n",
       "    <tr>\n",
       "      <th>4714</th>\n",
       "      <td>False</td>\n",
       "      <td>False</td>\n",
       "      <td>False</td>\n",
       "      <td>False</td>\n",
       "      <td>False</td>\n",
       "      <td>False</td>\n",
       "      <td>False</td>\n",
       "    </tr>\n",
       "    <tr>\n",
       "      <th>4715</th>\n",
       "      <td>False</td>\n",
       "      <td>False</td>\n",
       "      <td>False</td>\n",
       "      <td>False</td>\n",
       "      <td>False</td>\n",
       "      <td>False</td>\n",
       "      <td>False</td>\n",
       "    </tr>\n",
       "    <tr>\n",
       "      <th>4716</th>\n",
       "      <td>False</td>\n",
       "      <td>False</td>\n",
       "      <td>False</td>\n",
       "      <td>False</td>\n",
       "      <td>False</td>\n",
       "      <td>False</td>\n",
       "      <td>False</td>\n",
       "    </tr>\n",
       "    <tr>\n",
       "      <th>4717</th>\n",
       "      <td>False</td>\n",
       "      <td>False</td>\n",
       "      <td>False</td>\n",
       "      <td>False</td>\n",
       "      <td>False</td>\n",
       "      <td>False</td>\n",
       "      <td>False</td>\n",
       "    </tr>\n",
       "  </tbody>\n",
       "</table>\n",
       "<p>4718 rows × 7 columns</p>\n",
       "</div>"
      ],
      "text/plain": [
       "       Date  USD (AM)  USD (PM)  GBP (AM)  GBP (PM)  EURO (AM)  EURO (PM)\n",
       "0     False     False     False     False     False      False      False\n",
       "1     False     False     False     False     False      False      False\n",
       "2     False     False     False     False     False      False      False\n",
       "3     False     False     False     False     False      False      False\n",
       "4     False     False     False     False     False      False      False\n",
       "...     ...       ...       ...       ...       ...        ...        ...\n",
       "4713  False     False     False     False     False      False      False\n",
       "4714  False     False     False     False     False      False      False\n",
       "4715  False     False     False     False     False      False      False\n",
       "4716  False     False     False     False     False      False      False\n",
       "4717  False     False     False     False     False      False      False\n",
       "\n",
       "[4718 rows x 7 columns]"
      ]
     },
     "execution_count": 10,
     "metadata": {},
     "output_type": "execute_result"
    }
   ],
   "source": [
    "data.isnull()"
   ]
  },
  {
   "cell_type": "code",
   "execution_count": 11,
   "metadata": {},
   "outputs": [
    {
     "data": {
      "text/plain": [
       "Date          0\n",
       "USD (AM)      0\n",
       "USD (PM)     36\n",
       "GBP (AM)      0\n",
       "GBP (PM)     36\n",
       "EURO (AM)     0\n",
       "EURO (PM)    36\n",
       "dtype: int64"
      ]
     },
     "execution_count": 11,
     "metadata": {},
     "output_type": "execute_result"
    }
   ],
   "source": [
    "data.isnull().sum()"
   ]
  },
  {
   "cell_type": "code",
   "execution_count": 13,
   "metadata": {},
   "outputs": [],
   "source": [
    "data.dropna(inplace=True)"
   ]
  },
  {
   "cell_type": "code",
   "execution_count": 14,
   "metadata": {},
   "outputs": [
    {
     "data": {
      "text/plain": [
       "Date         0\n",
       "USD (AM)     0\n",
       "USD (PM)     0\n",
       "GBP (AM)     0\n",
       "GBP (PM)     0\n",
       "EURO (AM)    0\n",
       "EURO (PM)    0\n",
       "dtype: int64"
      ]
     },
     "execution_count": 14,
     "metadata": {},
     "output_type": "execute_result"
    }
   ],
   "source": [
    "data.isnull().sum()"
   ]
  },
  {
   "cell_type": "code",
   "execution_count": 15,
   "metadata": {},
   "outputs": [
    {
     "data": {
      "text/plain": [
       "0"
      ]
     },
     "execution_count": 15,
     "metadata": {},
     "output_type": "execute_result"
    }
   ],
   "source": [
    "data.duplicated().sum()"
   ]
  },
  {
   "cell_type": "code",
   "execution_count": 18,
   "metadata": {},
   "outputs": [
    {
     "data": {
      "image/png": "[encoded data removed]",
      "text/plain": [
       "<Figure size 432x288 with 1 Axes>"
      ]
     },
     "metadata": {
      "needs_background": "light"
     },
     "output_type": "display_data"
    }
   ],
   "source": [
    "plt.title('Gold Price Vs Year',color='Green')\n",
    "data['USD (AM)'].plot()\n",
    "plt.xlabel('YEAR')\n",
    "plt.ylabel('GOLD PRICE')\n",
    "plt.show()"
   ]
  },
  {
   "cell_type": "markdown",
   "metadata": {
    "id": "whRj_PWcMwe3"
   },
   "source": [
    "## Task 2: Create Train & Test Sets"
   ]
  },
  {
   "cell_type": "code",
   "execution_count": 19,
   "metadata": {
    "id": "Gmo4efFPMwe4"
   },
   "outputs": [],
   "source": [
    "data['MA_5'] = data['USD (AM)'].rolling(window = 5).mean()\n",
    "data['MA_10'] = data['USD (AM)'].rolling(window = 10).mean()\n",
    "data=data.dropna()"
   ]
  },
  {
   "cell_type": "code",
   "execution_count": 26,
   "metadata": {
    "id": "z2qIaWjDMwe5"
   },
   "outputs": [
    {
     "data": {
      "image/png": "[encoded data removed]",
      "text/plain": [
       "<Figure size 576x432 with 1 Axes>"
      ]
     },
     "metadata": {
      "needs_background": "light"
     },
     "output_type": "display_data"
    }
   ],
   "source": [
    "\n",
    "plt.figure(figsize=(8,6))\n",
    "plt.plot(data['USD (AM)'],label= 'Given_price', color='Red')\n",
    "plt.plot(data['MA_5'],label= 'Moving average 5 Days', color='Purple')\n",
    "plt.plot(data['MA_10'],label= 'Moving average 10 Days', color='cyan')\n",
    "\n",
    "plt.legend(['USD(AM)','MA_5','MA_10'])\n",
    "plt.show()\n",
    "            \n"
   ]
  },
  {
   "cell_type": "code",
   "execution_count": 27,
   "metadata": {
    "id": "aX-t1eqHMwe6"
   },
   "outputs": [],
   "source": [
    "#train and test spliting\n",
    "\n",
    "x=data[['MA_5','MA_10']]\n",
    "y=data['USD (AM)']\n",
    "\n",
    "t=0.8\n",
    "t=int(t*len(data))\n",
    "x_train,x_test,y_train,y_test = x[:t].round(4),x[t:].round(4), y[:t].round(4),y[t:].round(4)"
   ]
  },
  {
   "cell_type": "markdown",
   "metadata": {
    "id": "5WoSTq94Mwe7"
   },
   "source": [
    "## Task 3: Develop Models & Predictions"
   ]
  },
  {
   "cell_type": "code",
   "execution_count": 32,
   "metadata": {
    "id": "NZRcknxcMwe8"
   },
   "outputs": [],
   "source": [
    "from sklearn.model_selection import train_test_split\n",
    "from sklearn.ensemble import RandomForestRegressor\n",
    "from sklearn import metrics\n"
   ]
  },
  {
   "cell_type": "code",
   "execution_count": 33,
   "metadata": {
    "id": "hk-hgimcMwe9"
   },
   "outputs": [],
   "source": [
    "regressor = RandomForestRegressor(n_estimators=100)"
   ]
  },
  {
   "cell_type": "code",
   "execution_count": 34,
   "metadata": {
    "id": "VJFdG6e2Mwe9"
   },
   "outputs": [
    {
     "data": {
      "text/plain": [
       "RandomForestRegressor()"
      ]
     },
     "execution_count": 34,
     "metadata": {},
     "output_type": "execute_result"
    }
   ],
   "source": [
    "regressor.fit(x_train, y_train)"
   ]
  },
  {
   "cell_type": "code",
   "execution_count": 35,
   "metadata": {},
   "outputs": [],
   "source": [
    "test_data_prediction = regressor.predict(x_test)"
   ]
  },
  {
   "cell_type": "code",
   "execution_count": 36,
   "metadata": {},
   "outputs": [
    {
     "name": "stdout",
     "output_type": "stream",
     "text": [
      "R squared error : 0.9758377959921185\n"
     ]
    }
   ],
   "source": [
    "error_score = metrics.r2_score(y_test,test_data_prediction)\n",
    "print(\"R squared error :\", error_score)"
   ]
  },
  {
   "cell_type": "code",
   "execution_count": 37,
   "metadata": {},
   "outputs": [],
   "source": [
    "y_test = list(y_test)"
   ]
  },
  {
   "cell_type": "code",
   "execution_count": 52,
   "metadata": {},
   "outputs": [
    {
     "data": {
      "image/png": "[encoded data removed]",
      "text/plain": [
       "<Figure size 720x432 with 1 Axes>"
      ]
     },
     "metadata": {
      "needs_background": "light"
     },
     "output_type": "display_data"
    }
   ],
   "source": [
    "plt.figure(figsize=(10,6))\n",
    "plt.plot(y_test, label= 'Actual Value',color='red')\n",
    "\n",
    "plt.plot(test_data_prediction,label= 'Predicted Value', color='blue')\n",
    "plt.title('Actual Price Vs Predicted Price',color='Green')\n",
    "plt.xlabel('Number Of Values')\n",
    "plt.ylabel('GBP Price')\n",
    "\n",
    "plt.legend()\n",
    "plt.show()"
   ]
  },
  {
   "cell_type": "code",
   "execution_count": null,
   "metadata": {},
   "outputs": [],
   "source": []
  }
 ],
 "metadata": {
  "colab": {
   "name": "Project_4 Notebook.ipynb",
   "provenance": []
  },
  "kernelspec": {
   "display_name": "Python 3 (ipykernel)",
   "language": "python",
   "name": "python3"
  },
  "language_info": {
   "codemirror_mode": {
    "name": "ipython",
    "version": 3
   },
   "file_extension": ".py",
   "mimetype": "text/x-python",
   "name": "python",
   "nbconvert_exporter": "python",
   "pygments_lexer": "ipython3",
   "version": "3.10.4"
  }
 },
 "nbformat": 4,
 "nbformat_minor": 1
}
